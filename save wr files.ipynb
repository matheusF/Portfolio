{
 "cells": [
  {
   "cell_type": "code",
   "execution_count": 1,
   "id": "ae2e9058",
   "metadata": {
    "scrolled": false
   },
   "outputs": [],
   "source": [
    "import pandas as pd\n",
    "import numpy as np\n",
    "import re\n",
    "import time\n",
    "\n",
    "import selenium\n",
    "from selenium import webdriver\n",
    "from selenium.webdriver.common.by import By\n",
    "from selenium.webdriver import ActionChains\n",
    "from selenium.webdriver.support.wait import WebDriverWait\n",
    "from selenium.webdriver.support import expected_conditions as EC\n",
    "\n",
    "import dataframe_image as dfi\n",
    "import sys\n",
    "import pytesseract\n",
    "from PIL import Image\n",
    "\n",
    "import winsound\n",
    "import time\n",
    "import pyautogui\n",
    "\n",
    "pytesseract.pytesseract.tesseract_cmd = r\"C:\\Program Files\\Tesseract-OCR\\tesseract.exe\"\n",
    "\n",
    "driver = webdriver.Chrome()\n",
    "\n",
    "driver.get('https://lolalytics.com/lol/tierlist/?lane=top&tier=all')\n",
    "driver.maximize_window()\n",
    "#driver.find_elements(By.CSS_SELECTOR, 'button.ncmp__btn')[1].click()\n",
    "elem = WebDriverWait(driver, 10).until(\n",
    "    EC.presence_of_all_elements_located((By.CSS_SELECTOR,'button.ncmp__btn'))\n",
    ")\n",
    "elem[1].click()\n",
    "\n",
    "def mp_champs(lane, tier, patch):\n",
    "    driver.get('https://lolalytics.com/lol/tierlist/?lane='+ lane +'&tier='+ tier +'&patch='+patch)\n",
    "    for i in range(20):\n",
    "        if driver.find_elements(By.CSS_SELECTOR, 'div.z-20 div div')[i].text == 'Pick':\n",
    "            driver.find_elements(By.CSS_SELECTOR, 'div.z-20 div div')[i].click()\n",
    "            break\n",
    "    time.sleep(2)\n",
    "    topchamps = []\n",
    "    #most picked champions\n",
    "    elem = WebDriverWait(driver, 10).until(\n",
    "        EC.presence_of_all_elements_located((By.CSS_SELECTOR,'.my-auto.justify-center.flex a'))\n",
    "    )\n",
    "    for i in elem:\n",
    "        if i.text != '':\n",
    "            topchamps.append(re.sub(\"'|\\s|\\.\", '',i.text.lower()))\n",
    "    for i, champ in enumerate(topchamps):\n",
    "        if champ == 'renataglasc':\n",
    "            topchamps[i] = 'renata'\n",
    "    return topchamps\n",
    "\n",
    "def champx1wr(champ1, champ2, lane1, lane2, tier, patch):\n",
    "    if champ1 == champ2:\n",
    "        return 0\n",
    "    else:\n",
    "        driver.get('https://lolalytics.com/lol/'+ champ1 +'/vs/'+ champ2 +'/build/?lane='+ lane1 +'&vslane='+ lane2 +\n",
    "                   '&tier='+ tier +'&patch='+patch)\n",
    "        wr = driver.find_elements(By.CSS_SELECTOR, 'div.w-44 div.mb-1.font-bold')[0].text[:4]\n",
    "        return round(float(re.sub(\"%\", \"\", wr)), 1)\n",
    "\n",
    "def mychampswr(mychamps, champ, lane1, lane2, tier, patch):\n",
    "    wrs = []\n",
    "    for c in mychamps:\n",
    "        wrs.append(champx1wr(c, champ, lane1, lane2, tier, patch))\n",
    "    return wrs\n",
    "\n",
    "def tablex1wr(topchamps, mychamps, lane1, lane2, tier, patch):\n",
    "    topchamps = topchamps\n",
    "    table = []\n",
    "    for champ in topchamps:\n",
    "        try:\n",
    "            table.append(mychampswr(mychamps, champ, lane1, lane2, tier, patch))\n",
    "        except:\n",
    "            print(champ)\n",
    "    return table\n",
    "\n",
    "def save_wr_all_lanes(mychamps, lane, tier, patch):\n",
    "    lanes = ['top', 'jungle', 'middle', 'bottom', 'support']\n",
    "    num_champ_in_lane = [50, 50, 50, 30, 40]\n",
    "    if lane == 'top':\n",
    "        arq_names = ['wr_tables_top\\\\wrtop.csv', 'wr_tables_top\\\\wrjg.csv', 'wr_tables_top\\\\wrmid.csv',\n",
    "                     'wr_tables_top\\\\wradc.csv', 'wr_tables_top\\\\wrsup.csv']\n",
    "    if lane == 'jungle':\n",
    "        arq_names = ['wr_tables_jg\\\\wrtop.csv', 'wr_tables_jg\\\\wrjg.csv', 'wr_tables_jg\\\\wrmid.csv',\n",
    "                     'wr_tables_jg\\\\wradc.csv', 'wr_tables_jg\\\\wrsup.csv']\n",
    "    if lane == 'support':\n",
    "        arq_names = ['wr_tables_sup\\\\wrtop.csv', 'wr_tables_sup\\\\wrjg.csv', 'wr_tables_sup\\\\wrmid.csv',\n",
    "                     'wr_tables_sup\\\\wradc.csv', 'wr_tables_sup\\\\wrsup.csv']\n",
    "    for l2, num, arq_name in zip(lanes, num_champ_in_lane, arq_names):\n",
    "        topchamps = mp_champs(l2, tier, patch)[0:num]\n",
    "        tablewr = tablex1wr(topchamps, mychamps, lane, l2, tier, patch)\n",
    "        #print(len(tablewr), len(topchamps))\n",
    "        pd.DataFrame(tablewr, columns=mychamps, index=topchamps).to_csv(arq_name)\n",
    "    return 0"
   ]
  },
  {
   "cell_type": "code",
   "execution_count": 3,
   "id": "1b85fc05",
   "metadata": {
    "scrolled": true
   },
   "outputs": [
    {
     "data": {
      "text/plain": [
       "0"
      ]
     },
     "execution_count": 3,
     "metadata": {},
     "output_type": "execute_result"
    }
   ],
   "source": [
    "#mychamps = ['yorick', 'malphite', 'urgot', 'drmundo'] # top\n",
    "#mychamps = ['nocturne', 'amumu', 'briar'] # jungle\n",
    "mychamps = ['sona', 'zyra', 'yuumi'] # support\n",
    "save_wr_all_lanes(mychamps, 'support', 'all', '30')"
   ]
  }
 ],
 "metadata": {
  "kernelspec": {
   "display_name": "Python 3 (ipykernel)",
   "language": "python",
   "name": "python3"
  },
  "language_info": {
   "codemirror_mode": {
    "name": "ipython",
    "version": 3
   },
   "file_extension": ".py",
   "mimetype": "text/x-python",
   "name": "python",
   "nbconvert_exporter": "python",
   "pygments_lexer": "ipython3",
   "version": "3.11.5"
  }
 },
 "nbformat": 4,
 "nbformat_minor": 5
}
